{
 "cells": [
  {
   "cell_type": "code",
   "execution_count": null,
   "metadata": {},
   "outputs": [],
   "source": [
    "# Our lovely import statements :)\n",
    "\n",
    "import pandas as pd\n",
    "\n",
    "import os\n",
    "import glob\n",
    "import ntpath\n",
    "\n",
    "from PIL import Image\n",
    "import cv2\n",
    "import matplotlib.pyplot as plt\n",
    "from skimage import io\n",
    "\n",
    "from keras_preprocessing.image import ImageDataGenerator\n",
    "from tensorflow.python.keras import Sequential\n",
    "from tensorflow.keras import layers, optimizers, models\n",
    "from tensorflow.keras.callbacks import ModelCheckpoint\n",
    "from tensorflow.keras.callbacks import EarlyStopping\n"
   ]
  },
  {
   "cell_type": "code",
   "execution_count": null,
   "metadata": {},
   "outputs": [],
   "source": [
    "# putting all image paths of each dataset together\n",
    "\n",
    "test_map = [] \n",
    "train_map =[]\n",
    "valid_map = []\n",
    "\n",
    "for sub_dir_path in glob.glob(\"data/MMAFEDB/test/\"+\"*\"):\n",
    "    try:\n",
    "        dir_name = sub_dir_path.split('/')[-1]\n",
    "        for filename in os.listdir(sub_dir_path):\n",
    "            image_path = sub_dir_path + '/' + filename\n",
    "            test_map.extend([dir_name, image_path])\n",
    "    except Exception as e:\n",
    "        print(e)\n",
    "\n",
    "for sub_dir_path in glob.glob(\"data/MMAFEDB/train/\"+\"*\"):\n",
    "    try:\n",
    "        dir_name = sub_dir_path.split('/')[-1]\n",
    "        for filename in os.listdir(sub_dir_path):\n",
    "            image_path = sub_dir_path + '/' + filename\n",
    "            train_map.extend([dir_name, image_path])\n",
    "    except Exception as e:\n",
    "        print(e)\n",
    "        \n",
    "for sub_dir_path in glob.glob(\"data/MMAFEDB/valid/\"+\"*\"):\n",
    "    try:\n",
    "        dir_name = sub_dir_path.split('/')[-1]\n",
    "        for filename in os.listdir(sub_dir_path):\n",
    "            image_path = sub_dir_path + '/' + filename\n",
    "            valid_map.extend([dir_name, image_path])\n",
    "    except Exception as e:\n",
    "        print(e)"
   ]
  },
  {
   "cell_type": "code",
   "execution_count": null,
   "metadata": {},
   "outputs": [],
   "source": [
    "# creating dataframes with labels of 4 emotions used \n",
    "\n",
    "df_test = pd.DataFrame({\"path\" : test_map[1::2]})\n",
    "df_train = pd.DataFrame({\"path\" : train_map[1::2]})\n",
    "df_valid = pd.DataFrame({\"path\" : valid_map[1::2]})\n",
    "\n",
    "def labels(path):\n",
    "    pat = os.path.dirname(path) \n",
    "    return ntpath.basename(pat)\n",
    "df_test['label'] = df_test['path'].apply(lambda x: labels(x))\n",
    "df_train['label'] = df_train['path'].apply(lambda x: labels(x))\n",
    "df_valid['label'] = df_valid['path'].apply(lambda x: labels(x))\n",
    "\n",
    "lst = ['disgust','surprise','fear']\n",
    "\n",
    "df_test = df_test[(df_test.label != 'disgust') & (df_test.label != 'surprise') & (df_test.label != 'fear')]\n",
    "df_train = df_train[(df_train.label != 'disgust') & (df_train.label != 'surprise') & (df_train.label != 'fear')]\n",
    "df_valid = df_valid[(df_valid.label != 'disgust') & (df_valid.label != 'surprise') & (df_valid.label != 'fear')]\n"
   ]
  },
  {
   "cell_type": "code",
   "execution_count": null,
   "metadata": {},
   "outputs": [],
   "source": [
    "# Using IDG to make all the images the same size and to create more images for our data to train and validate with\n",
    "\n",
    "idg = ImageDataGenerator(rescale=1/255,     \n",
    "                            rotation_range=15,\n",
    "                            width_shift_range=0.15,\n",
    "                            height_shift_range=0.15,\n",
    "                            shear_range=0.15,\n",
    "                            zoom_range=0.15,\n",
    "                            horizontal_flip=True)\n",
    "\n",
    "train_gen = idg.flow_from_dataframe(dataframe=df_train, directory= './', x_col='path', y_col='label', \n",
    "                                    class_mode=\"categorical\", target_size = [48,48], color_mode = 'grayscale')\n",
    "\n",
    "valid_gen = idg.flow_from_dataframe(dataframe=df_valid, directory= './', x_col='path', y_col='label', \n",
    "                                   class_mode=\"categorical\", target_size = [48,48], color_mode = 'grayscale')"
   ]
  },
  {
   "cell_type": "code",
   "execution_count": null,
   "metadata": {},
   "outputs": [],
   "source": [
    "# Created CNN based off of AlexNet, but it's altered more \n",
    "# in order for the program to detect the emotions better from the input\n",
    "\n",
    "best = Sequential([\n",
    "    layers.Conv2D(128, 6, activation=\"relu\", padding=\"same\", input_shape=[48,48,1]),#input shape: [rows, columns, channels]\n",
    "    layers.MaxPooling2D(4),\n",
    "    layers.Conv2D(128, 2, activation=\"relu\", padding=\"same\"),\n",
    "    layers.Conv2D(256, 2, activation=\"relu\", padding=\"same\"),\n",
    "    layers.MaxPooling2D(4),\n",
    "    layers.Conv2D(128, 2, activation=\"relu\", padding=\"same\"),\n",
    "    layers.Conv2D(64, 2, activation=\"relu\", padding=\"same\"),\n",
    "    layers.MaxPooling2D(2),\n",
    "    layers.Flatten(),\n",
    "    layers.Dense(48, activation=\"relu\"),\n",
    "    layers.Dropout(0.5),\n",
    "    layers.Dense(4, activation=\"softmax\")\n",
    "])\n",
    "\n",
    "\n",
    "best.compile(loss='categorical_crossentropy',\n",
    "                optimizer='Adam',\n",
    "                metrics=['accuracy'])"
   ]
  },
  {
   "cell_type": "code",
   "execution_count": null,
   "metadata": {
    "scrolled": true
   },
   "outputs": [],
   "source": [
    "mc = ModelCheckpoint('best_model.h5', \n",
    "                     save_best_only=True,\n",
    "                     save_weights_only=False, \n",
    "                     save_freq='epoch')\n",
    "es = EarlyStopping(monitor='val_accuracy', \n",
    "                   mode='auto', \n",
    "                   verbose=1, \n",
    "                   patience=15, \n",
    "                   restore_best_weights=True)\n",
    "history = best.fit(train_gen,\n",
    "                    epochs=500,\n",
    "                    validation_data = valid_gen, \n",
    "                    callbacks = [es,mc])\n",
    "score = best.evaluate(valid_gen, verbose=0)\n",
    "print('Test score:', score[0])\n",
    "print('Test accuracy:', score[1])  # this is the one we care about"
   ]
  },
  {
   "cell_type": "code",
   "execution_count": null,
   "metadata": {},
   "outputs": [],
   "source": []
  }
 ],
 "metadata": {
  "kernelspec": {
   "display_name": "Python 3",
   "language": "python",
   "name": "python3"
  },
  "language_info": {
   "codemirror_mode": {
    "name": "ipython",
    "version": 3
   },
   "file_extension": ".py",
   "mimetype": "text/x-python",
   "name": "python",
   "nbconvert_exporter": "python",
   "pygments_lexer": "ipython3",
   "version": "3.8.8"
  }
 },
 "nbformat": 4,
 "nbformat_minor": 2
}
